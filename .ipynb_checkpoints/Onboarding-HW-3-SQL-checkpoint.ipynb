{
 "cells": [
  {
   "cell_type": "markdown",
   "id": "2f5f60ff",
   "metadata": {
    "hide_input": false
   },
   "source": [
    "# Homework 3: SQL"
   ]
  },
  {
   "cell_type": "markdown",
   "id": "6521d68f",
   "metadata": {},
   "source": [
    "## Section 1: Multiple Choice/Choose all that apply"
   ]
  },
  {
   "cell_type": "markdown",
   "id": "5f4214e5",
   "metadata": {},
   "source": [
    "### Some Clarifications for Question 1:\n",
    "- The \"wrong number of duplicates\" and \"out of order\" options refer specifically to the case where we have all of the correct rows and none of the wrong rows.\n",
    "- \"Incorrect schema\" refers to an issue with the columns that are in the output"
   ]
  },
  {
   "cell_type": "markdown",
   "id": "17b925c8",
   "metadata": {},
   "source": [
    "#### Do the following queries achieve the goal of finding all of the continents (without duplicates)?\n",
    "\n",
    "The tables being used in these queries follow the schemas:\n",
    "\n",
    "**countries** : (country_id, name, continent, gdp, primary key (country_id))\n",
    "\n",
    "**cities** : (city_id, name, country_id, primary key (city_id), foreign key (country_id) references countries)\n",
    "\n",
    "**travelers** : (tid, name, arrived, dest_id, primary key (tid, arrived), foreign key (dest_id) references cities)"
   ]
  },
  {
   "cell_type": "markdown",
   "id": "3e8a5ceb",
   "metadata": {},
   "source": [
    "### Question 1A\n",
    "\n",
    "SELECT DISTINCT continent\\\n",
    "FROM countries;\n",
    "\n",
    "**Does this query achieve the goal of finding all of the continents (without duplicates)?**\n",
    "\n",
    "\n",
    "- (A) Correct query\n",
    "\n",
    "- (B) Incorrect output (no correct rows at all or contains both false negatives and false positives)\n",
    "\n",
    "- (C) Incorrect schema (query fails during execution or outputs wrong columns)\n",
    "\n",
    "- (D) Output may be missing rows from the correct answer (false negatives, i.e. some (but not all) correct rows are missing)\n",
    "\n",
    "- (E) Output may contain incorrect rows (false positives, i.e. some (but not all) rows are incorrect)\n",
    "\n",
    "- (F) Output may have the wrong number of duplicates (the output contains all of the correct rows and none of the incorrect rows).\n",
    "\n",
    "- (G) Output may not be ordered properly (the output contains all of the correct rows and none of the incorrect rows).\n"
   ]
  },
  {
   "cell_type": "code",
   "execution_count": 5,
   "id": "164f224c",
   "metadata": {},
   "outputs": [
    {
     "name": "stdout",
     "output_type": "stream",
     "text": [
      "F\n"
     ]
    }
   ],
   "source": [
    "ans1a = \"F\"\n",
    "print(ans1a)"
   ]
  },
  {
   "cell_type": "markdown",
   "id": "89ccbbfe",
   "metadata": {},
   "source": [
    "### Question 1B\n",
    "\n",
    "SELECT continent\\\n",
    "FROM countries;\n",
    "\n",
    "**Does this query achieve the goal of finding all of the continents (without duplicates)?**\n",
    "\n",
    "\n",
    "- (A) Correct query\n",
    "\n",
    "- (B) Incorrect output (no correct rows at all or contains both false negatives and false positives)\n",
    "\n",
    "- (C) Incorrect schema (query fails during execution or outputs wrong columns)\n",
    "\n",
    "- (D) Output may be missing rows from the correct answer (false negatives, i.e. some (but not all) correct rows are missing)\n",
    "\n",
    "- (E) Output may contain incorrect rows (false positives, i.e. some (but not all) rows are incorrect)\n",
    "\n",
    "- (F) Output may have the wrong number of duplicates (the output contains all of the correct rows and none of the incorrect rows).\n",
    "\n",
    "- (G) Output may not be ordered properly (the output contains all of the correct rows and none of the incorrect rows).\n",
    "\n"
   ]
  },
  {
   "cell_type": "code",
   "execution_count": 2,
   "id": "cf159dbf",
   "metadata": {},
   "outputs": [
    {
     "name": "stdout",
     "output_type": "stream",
     "text": [
      "E\n"
     ]
    }
   ],
   "source": [
    "ans1B = \"E\"\n",
    "print(ans1B)"
   ]
  },
  {
   "cell_type": "markdown",
   "id": "8f733b2a",
   "metadata": {},
   "source": [
    "### Question 1C\n",
    "\n",
    "SELECT continent\\\n",
    "FROM countries\\\n",
    "GROUP BY continent;\n",
    "\n",
    "**Does this query achieve the goal of finding all of the continents in the table (without duplicates)?**\n",
    "\n",
    "\n",
    "- (A) Correct query\n",
    "\n",
    "- (B) Incorrect output (no correct rows at all or contains both false negatives and false positives)\n",
    "\n",
    "- (C) Incorrect schema (query fails during execution or outputs wrong columns)\n",
    "\n",
    "- (D) Output may be missing rows from the correct answer (false negatives, i.e. some (but not all) correct rows are missing)\n",
    "\n",
    "- (E) Output may contain incorrect rows (false positives, i.e. some (but not all) rows are incorrect)\n",
    "\n",
    "- (F) Output may have the wrong number of duplicates (the output contains all of the correct rows and none of the incorrect rows).\n",
    "\n",
    "- (G) Output may not be ordered properly (the output contains all of the correct rows and none of the incorrect rows).\n"
   ]
  },
  {
   "cell_type": "code",
   "execution_count": 3,
   "id": "196ab175",
   "metadata": {},
   "outputs": [
    {
     "name": "stdout",
     "output_type": "stream",
     "text": [
      "A\n"
     ]
    }
   ],
   "source": [
    "ans1C = \"A\"\n",
    "print(ans1C)"
   ]
  },
  {
   "cell_type": "markdown",
   "id": "2e559f10",
   "metadata": {},
   "source": [
    "### Question 1D\n",
    "\n",
    "SELECT continent\\\n",
    "FROM countries\\\n",
    "GROUP BY continent\\\n",
    "HAVING count(*) > 1;\n",
    "\n",
    "**Does this query achieve the goal of finding all of the continents (without duplicates)?**\n",
    "\n",
    "\n",
    "- (A) Correct query\n",
    "\n",
    "- (B) Incorrect output (no correct rows at all or contains both false negatives and false positives)\n",
    "\n",
    "- (C) Incorrect schema (query fails during execution or outputs wrong columns)\n",
    "\n",
    "- (D) Output may be missing rows from the correct answer (false negatives, i.e. some (but not all) correct rows are missing)\n",
    "\n",
    "- (E) Output may contain incorrect rows (false positives, i.e. some (but not all) rows are incorrect)\n",
    "\n",
    "- (F) Output may have the wrong number of duplicates (the output contains all of the correct rows and none of the incorrect rows).\n",
    "\n",
    "- (G) Output may not be ordered properly (the output contains all of the correct rows and none of the incorrect rows).\n"
   ]
  },
  {
   "cell_type": "code",
   "execution_count": 4,
   "id": "b0da680e",
   "metadata": {},
   "outputs": [
    {
     "name": "stdout",
     "output_type": "stream",
     "text": [
      "D\n"
     ]
    }
   ],
   "source": [
    "ans1D = \"D\"\n",
    "print(ans1D)"
   ]
  },
  {
   "cell_type": "markdown",
   "id": "d279d435",
   "metadata": {},
   "source": [
    "### Question 2A: \n",
    "\n",
    "SELECT cities.name \\\n",
    "FROM cities, travelers\\\n",
    "WHERE city_id = dest_id \\\n",
    "GROUP BY cities.name, cities.city_id\\\n",
    "ORDER BY count(*) desc\\\n",
    "LIMIT 1;\\\n",
    "\n",
    "**Does this query achieve the goal of finding the name(s) of the most traveled to city(s)?**\n",
    "\n",
    "- (A) Correct query\n",
    "\n",
    "- (B) Incorrect output (no correct rows at all or contains both false negatives and false positives)\n",
    "\n",
    "- (C) Incorrect schema (query fails during execution or outputs wrong columns)\n",
    "\n",
    "- (D) Output may be missing rows from the correct answer (false negatives, i.e. some (but not all) correct rows are missing)\n",
    "\n",
    "- (E) Output may contain incorrect rows (false positives, i.e. some (but not all) rows are incorrect)\n",
    "\n",
    "- (F) Output may have the wrong number of duplicates (the output contains all of the correct rows and none of the incorrect rows).\n",
    "\n",
    "- (G) Output may not be ordered properly (the output contains all of the correct rows and none of the incorrect rows).\n"
   ]
  },
  {
   "cell_type": "code",
   "execution_count": 2,
   "id": "717b0e8a",
   "metadata": {},
   "outputs": [
    {
     "name": "stdout",
     "output_type": "stream",
     "text": [
      "E\n"
     ]
    }
   ],
   "source": [
    "ans2A = \"E\"\n",
    "print(ans2A)"
   ]
  },
  {
   "cell_type": "markdown",
   "id": "1f75ea51",
   "metadata": {},
   "source": [
    "### Question 2B: \n",
    "\n",
    "SELECT cities.name \\\n",
    "FROM cities, travelers\\\n",
    "WHERE city_id = dest_id \\\n",
    "GROUP BY cities.name, cities.city_id\\\n",
    "HAVING count(*) > 1;\\\n",
    "\n",
    "**Does this query achieve the goal of finding the name(s) of the most traveled to city(s)? For this question only, assume that the top city/cities are visited > 1 time.**\n",
    "\n",
    "\n",
    "\n",
    "- (A) Correct query\n",
    "\n",
    "- (B) Incorrect output (no correct rows at all or contains both false negatives and false positives)\n",
    "\n",
    "- (C) Incorrect schema (query fails during execution or outputs wrong columns)\n",
    "\n",
    "- (D) Output may be missing rows from the correct answer (false negatives, i.e. some (but not all) correct rows are missing)\n",
    "\n",
    "- (E) Output may contain incorrect rows (false positives, i.e. some (but not all) rows are incorrect)\n",
    "\n",
    "- (F) Output may have the wrong number of duplicates (the output contains all of the correct rows and none of the incorrect rows).\n",
    "\n",
    "- (G) Output may not be ordered properly (the output contains all of the correct rows and none of the incorrect rows)."
   ]
  },
  {
   "cell_type": "code",
   "execution_count": 7,
   "id": "672423fc",
   "metadata": {},
   "outputs": [
    {
     "name": "stdout",
     "output_type": "stream",
     "text": [
      "A\n"
     ]
    }
   ],
   "source": [
    "ans2B = \"A\"\n",
    "print(ans2B)"
   ]
  },
  {
   "cell_type": "markdown",
   "id": "176efc26",
   "metadata": {},
   "source": [
    "### Question 2C: \n",
    "\n",
    "SELECT cities.name, count(*)\\\n",
    "FROM cities, travelers\\\n",
    "WHERE city_id = dest_id\\\n",
    "GROUP BY dest_id\\\n",
    "ORDER BY count(*) desc\\\n",
    "LIMIT 1;\\\n",
    "\n",
    "**Does this query achieve the goal of finding the name(s) of the most traveled to city(s)?**\n",
    "\n",
    "\n",
    "\n",
    "- (A) Correct query\n",
    "\n",
    "- (B) Incorrect output (no correct rows at all or contains both false negatives and false positives)\n",
    "\n",
    "- (C) Incorrect schema (query fails during execution or outputs wrong columns)\n",
    "\n",
    "- (D) Output may be missing rows from the correct answer (false negatives, i.e. some (but not all) correct rows are missing)\n",
    "\n",
    "- (E) Output may contain incorrect rows (false positives, i.e. some (but not all) rows are incorrect)\n",
    "\n",
    "- (F) Output may have the wrong number of duplicates (the output contains all of the correct rows and none of the incorrect rows).\n",
    "\n",
    "- (G) Output may not be ordered properly (the output contains all of the correct rows and none of the incorrect rows)."
   ]
  },
  {
   "cell_type": "code",
   "execution_count": 6,
   "id": "51a531d6",
   "metadata": {},
   "outputs": [
    {
     "name": "stdout",
     "output_type": "stream",
     "text": [
      "C\n"
     ]
    }
   ],
   "source": [
    "ans2C = \"C\"\n",
    "print(ans2C)"
   ]
  },
  {
   "cell_type": "markdown",
   "id": "2ebba048",
   "metadata": {},
   "source": [
    "### Question 3: Select ALL that are TRUE\n",
    "\n",
    "- (a) a natural join attempts to join two tables on their columns that have the same name\n",
    "- (b) aggregates can be used in a WHERE clause (ie. where COUNT(*)=4)\n",
    "- (c) aggregates require a GROUP BY clause\n",
    "- (d) HAVING is like a WHERE clause however it only applies to the groups creates in the GROUP BY clause\n",
    "- (e) X LEFT OUTER JOIN Y is equal to Y right outer join X for queries that explicitly SELECT columns\n",
    "- (f) Tables must be reference by their full names rather than aliases"
   ]
  },
  {
   "cell_type": "code",
   "execution_count": 8,
   "id": "e21c32a2",
   "metadata": {},
   "outputs": [
    {
     "name": "stdout",
     "output_type": "stream",
     "text": [
      "a, b, c, e\n"
     ]
    }
   ],
   "source": [
    "ans3 = \"a, b, c, e\"\n",
    "print(ans3)"
   ]
  },
  {
   "cell_type": "markdown",
   "id": "c3c72a61",
   "metadata": {},
   "source": [
    "## Section 2: Fill in the Blanks"
   ]
  },
  {
   "cell_type": "markdown",
   "id": "948cf1b2",
   "metadata": {},
   "source": [
    "Given two relations with their schema:\n",
    "\n",
    "- **Polls**(INT measure, TEXT state, TEXT county, INT yes_votes, INT estimated_voters, BOOL estimated_win)\n",
    "\n",
    "- **Measures**(INT id, TEXT proposed_by, INT money_required)\n"
   ]
  },
  {
   "cell_type": "markdown",
   "id": "1fc22d79",
   "metadata": {},
   "source": [
    "### Question 4: \n",
    "\n",
    "Lakshya wants to start by calculating the total number of counties from California that have data available.\n",
    "\n",
    "SELECT _______(4a)_________\\\n",
    "FROM Polls\\\n",
    "WHERE _______(4b)_____\n"
   ]
  },
  {
   "cell_type": "code",
   "execution_count": 12,
   "id": "5b4102be",
   "metadata": {},
   "outputs": [
    {
     "name": "stdout",
     "output_type": "stream",
     "text": [
      "First Blank: county\n"
     ]
    }
   ],
   "source": [
    "#FIRST BLANK\n",
    "ans4a = \"county\"\n",
    "print(\"First Blank: \" + ans4a)"
   ]
  },
  {
   "cell_type": "code",
   "execution_count": 13,
   "id": "83afe69c",
   "metadata": {},
   "outputs": [
    {
     "name": "stdout",
     "output_type": "stream",
     "text": [
      "Second Blank: state = 'California'\n"
     ]
    }
   ],
   "source": [
    "#SECOND BLANK\n",
    "ans4b = \"state = 'California'\"\n",
    "print(\"Second Blank: \" + ans4b)"
   ]
  },
  {
   "cell_type": "markdown",
   "id": "2cd45074",
   "metadata": {},
   "source": [
    "### Question 5:\n",
    "\n",
    "Lakshya is a bit suspect of the number of measures proposed by a “David Chu” that are asking for money to purchase swag for the Sky Lab. Help him write a query that counts the amount of money requested for each measure by “David Chu” that has at least 50 polls with an estimated win.\n",
    "Note: there is exactly one row for each measure in the Measures table\n",
    "\n",
    "SELECT measure.id, measure.money_required\\\n",
    "FROM ___________(5a)___________\\\n",
    "______________(5b)________\\\n",
    "______________(5c)________\\\n",
    "_______________(5d)_______\n"
   ]
  },
  {
   "cell_type": "code",
   "execution_count": 14,
   "id": "e9ddfb69",
   "metadata": {},
   "outputs": [
    {
     "name": "stdout",
     "output_type": "stream",
     "text": [
      "First Blank: Measures\n"
     ]
    }
   ],
   "source": [
    "#FIRST BLANK\n",
    "ans5a = 'Measures'\n",
    "print(\"First Blank: \" + ans5a)"
   ]
  },
  {
   "cell_type": "code",
   "execution_count": 15,
   "id": "8b3ef8ee",
   "metadata": {},
   "outputs": [
    {
     "name": "stdout",
     "output_type": "stream",
     "text": [
      "Second Blank: inner join (select measure, COUNT(*) as count from Polls where estimated_win = 1 group by measure having count >= 50) as Win\n"
     ]
    }
   ],
   "source": [
    "#SECOND BLANK\n",
    "ans5b = \"inner join (select measure, COUNT(*) as count from Polls where estimated_win = 1 group by measure having count >= 50) as Win\"  \n",
    "print(\"Second Blank: \" + ans5b)"
   ]
  },
  {
   "cell_type": "code",
   "execution_count": 20,
   "id": "8590aa03",
   "metadata": {},
   "outputs": [
    {
     "name": "stdout",
     "output_type": "stream",
     "text": [
      "Third Blank: measure.id = Win.measure\n"
     ]
    }
   ],
   "source": [
    "#THIRD BLANK\n",
    "ans5c = \"measure.id = Win.measure\"\n",
    "print(\"Third Blank: \" + ans5c)"
   ]
  },
  {
   "cell_type": "code",
   "execution_count": 19,
   "id": "fef90dd0",
   "metadata": {},
   "outputs": [
    {
     "name": "stdout",
     "output_type": "stream",
     "text": [
      "Fourth Blank: measures.proposed_by = 'David Chu'\n"
     ]
    }
   ],
   "source": [
    "#FOURTH BLANK\n",
    "ans5d = \"measures.proposed_by = 'David Chu'\"\n",
    "print(\"Fourth Blank: \" + ans5d)"
   ]
  },
  {
   "cell_type": "markdown",
   "id": "ba1eeeda",
   "metadata": {},
   "source": [
    "## Question 5: "
   ]
  },
  {
   "cell_type": "markdown",
   "id": "2663804d",
   "metadata": {},
   "source": [
    "Given the table **Logs**\n",
    "\n",
    "+-------------+---------+\\\n",
    "| Column Name | Type    |\\\n",
    "+-------------+---------+\\\n",
    "| id&nbsp;&nbsp;&nbsp;&nbsp;&nbsp;&nbsp;&nbsp;&nbsp;&nbsp;&nbsp;&nbsp;&nbsp;&nbsp;&nbsp;&nbsp;&nbsp;| int&nbsp;&nbsp;&nbsp;&nbsp;&nbsp;&nbsp;&nbsp;&nbsp;&nbsp;|\\\n",
    "| num&nbsp;&nbsp;&nbsp;&nbsp;&nbsp;&nbsp;&nbsp;&nbsp;&nbsp;&nbsp;&nbsp;&nbsp;| varchar |\\\n",
    "+-------------+---------+\\\n",
    "**id** is the **primary key** for this table.\\\n",
    "**id** is an autoincrement column.\n",
    "\n",
    "Write an SQL query to find all numbers that appear at least three times consecutively.\n",
    "\n",
    "Return the result table in any order.\n",
    "\n",
    "The query result format is in the following example.\n"
   ]
  },
  {
   "cell_type": "code",
   "execution_count": 1,
   "id": "0b3423df",
   "metadata": {},
   "outputs": [
    {
     "ename": "SyntaxError",
     "evalue": "invalid syntax (1667130983.py, line 1)",
     "output_type": "error",
     "traceback": [
      "\u001b[0;36m  Input \u001b[0;32mIn [1]\u001b[0;36m\u001b[0m\n\u001b[0;31m    SELECT DISTINCT Logs1.num\u001b[0m\n\u001b[0m           ^\u001b[0m\n\u001b[0;31mSyntaxError\u001b[0m\u001b[0;31m:\u001b[0m invalid syntax\n"
     ]
    }
   ],
   "source": [
    "SELECT DISTINCT Logs1.num\n",
    "FROM Logs as Logs1, Logs as Logs2, Logs as Logs3\n",
    "JOIN Logs2 ON Logs1.id = Logs2.id - 1\n",
    "JOIN Logs3 ON Logs2.id = Logs3.id - 1\n",
    "WHERE Logs1.num = Logs2.num AND Logs1.num = Logs3.num"
   ]
  },
  {
   "cell_type": "markdown",
   "id": "13e2556b",
   "metadata": {},
   "source": [
    "### Example Input and Output\n",
    "\n",
    "Input: \\\n",
    "Logs table:\\\n",
    "+----+-----+\\\n",
    "| id&nbsp;&nbsp;&nbsp;&nbsp;| num&nbsp;|\\\n",
    "+----+-----+\\\n",
    "| 1&nbsp;&nbsp;&nbsp;&nbsp;&nbsp;| 1&nbsp;&nbsp;&nbsp;&nbsp;&nbsp;|\\\n",
    "| 2&nbsp;&nbsp;&nbsp;&nbsp;&nbsp;| 1&nbsp;&nbsp;&nbsp;&nbsp;&nbsp;|\\\n",
    "| 3&nbsp;&nbsp;&nbsp;&nbsp;&nbsp;| 1&nbsp;&nbsp;&nbsp;&nbsp;&nbsp;|\\\n",
    "| 4&nbsp;&nbsp;&nbsp;&nbsp;&nbsp;| 2&nbsp;&nbsp;&nbsp;&nbsp;&nbsp;|\\\n",
    "| 5&nbsp;&nbsp;&nbsp;&nbsp;&nbsp;| 1&nbsp;&nbsp;&nbsp;&nbsp;&nbsp;|\\\n",
    "| 6&nbsp;&nbsp;&nbsp;&nbsp;&nbsp;| 2&nbsp;&nbsp;&nbsp;&nbsp;&nbsp;|\\\n",
    "| 7&nbsp;&nbsp;&nbsp;&nbsp;&nbsp;| 2&nbsp;&nbsp;&nbsp;&nbsp;&nbsp;|\\\n",
    "+----+-----+\\\n",
    "Output: \\\n",
    "+---------------------+\\\n",
    "| ConsecutiveNums |\\\n",
    "+---------------------+\\\n",
    "| 1 &nbsp;&nbsp;&nbsp;&nbsp;&nbsp;&nbsp;&nbsp;&nbsp;&nbsp;&nbsp;&nbsp;&nbsp;&nbsp;&nbsp;&nbsp;&nbsp;&nbsp;&nbsp;&nbsp;&nbsp;&nbsp;&nbsp;&nbsp;&nbsp;&nbsp;&nbsp;&nbsp;|\\\n",
    "+---------------------+\\\n",
    "Explanation: 1 is the only number that appears consecutively for at least three times."
   ]
  },
  {
   "cell_type": "markdown",
   "id": "7a1e2694",
   "metadata": {},
   "source": [
    "**yay ur done!**"
   ]
  },
  {
   "cell_type": "code",
   "execution_count": null,
   "id": "a3377cc0",
   "metadata": {},
   "outputs": [],
   "source": []
  }
 ],
 "metadata": {
  "kernelspec": {
   "display_name": "Python 3 (ipykernel)",
   "language": "python",
   "name": "python3"
  },
  "language_info": {
   "codemirror_mode": {
    "name": "ipython",
    "version": 3
   },
   "file_extension": ".py",
   "mimetype": "text/x-python",
   "name": "python",
   "nbconvert_exporter": "python",
   "pygments_lexer": "ipython3",
   "version": "3.9.12"
  }
 },
 "nbformat": 4,
 "nbformat_minor": 5
}
